{
 "cells": [
  {
   "cell_type": "code",
   "execution_count": null,
   "metadata": {},
   "outputs": [],
   "source": [
    "# default_exp First Page"
   ]
  },
  {
   "cell_type": "code",
   "execution_count": null,
   "metadata": {},
   "outputs": [],
   "source": [
    "#hide\n",
    "from nbdev.showdoc import *"
   ]
  },
  {
   "cell_type": "markdown",
   "metadata": {},
   "source": [
    "# Golden Prediction Classifier"
   ]
  },
  {
   "cell_type": "markdown",
   "metadata": {},
   "source": [
    "## Load Data"
   ]
  },
  {
   "cell_type": "markdown",
   "metadata": {},
   "source": [
    "<p class=\"text-justify\" align=\"left\">\n",
    "Load CSV file and Read data to PreProcessing\n",
    "<br>\n",
    "Use Pandas Library\n",
    "</p><br>\n",
    "\n"
   ]
  },
  {
   "cell_type": "code",
   "execution_count": null,
   "metadata": {},
   "outputs": [],
   "source": [
    "# Library\n",
    "\n",
    "import pandas as pd \n"
   ]
  },
  {
   "cell_type": "code",
   "execution_count": null,
   "metadata": {},
   "outputs": [
    {
     "data": {
      "text/html": [
       "<div>\n",
       "<style scoped>\n",
       "    .dataframe tbody tr th:only-of-type {\n",
       "        vertical-align: middle;\n",
       "    }\n",
       "\n",
       "    .dataframe tbody tr th {\n",
       "        vertical-align: top;\n",
       "    }\n",
       "\n",
       "    .dataframe thead th {\n",
       "        text-align: right;\n",
       "    }\n",
       "</style>\n",
       "<table border=\"1\" class=\"dataframe\">\n",
       "  <thead>\n",
       "    <tr style=\"text-align: right;\">\n",
       "      <th></th>\n",
       "      <th>CurrentOpen</th>\n",
       "      <th>CurrentClose</th>\n",
       "      <th>CurrentAsk</th>\n",
       "      <th>Profit</th>\n",
       "      <th>closeReason</th>\n",
       "      <th>Action</th>\n",
       "    </tr>\n",
       "  </thead>\n",
       "  <tbody>\n",
       "    <tr>\n",
       "      <th>0</th>\n",
       "      <td>1560.2</td>\n",
       "      <td>1559.95</td>\n",
       "      <td>1560.11</td>\n",
       "      <td>-0.72</td>\n",
       "      <td>closeByStopLossNonProfitable</td>\n",
       "      <td>buy</td>\n",
       "    </tr>\n",
       "    <tr>\n",
       "      <th>1</th>\n",
       "      <td>1560.2</td>\n",
       "      <td>1559.95</td>\n",
       "      <td>1560.11</td>\n",
       "      <td>-0.67</td>\n",
       "      <td>closeByStopLossNonProfitable</td>\n",
       "      <td>buy</td>\n",
       "    </tr>\n",
       "    <tr>\n",
       "      <th>2</th>\n",
       "      <td>1560.2</td>\n",
       "      <td>1559.95</td>\n",
       "      <td>1560.11</td>\n",
       "      <td>-0.70</td>\n",
       "      <td>closeByStopLossNonProfitable</td>\n",
       "      <td>buy</td>\n",
       "    </tr>\n",
       "    <tr>\n",
       "      <th>3</th>\n",
       "      <td>1560.2</td>\n",
       "      <td>1559.95</td>\n",
       "      <td>1560.11</td>\n",
       "      <td>-0.62</td>\n",
       "      <td>closeByStopLossNonProfitable</td>\n",
       "      <td>buy</td>\n",
       "    </tr>\n",
       "    <tr>\n",
       "      <th>4</th>\n",
       "      <td>1560.2</td>\n",
       "      <td>1559.95</td>\n",
       "      <td>1560.11</td>\n",
       "      <td>-0.60</td>\n",
       "      <td>closeByStopLossNonProfitable</td>\n",
       "      <td>buy</td>\n",
       "    </tr>\n",
       "  </tbody>\n",
       "</table>\n",
       "</div>"
      ],
      "text/plain": [
       "   CurrentOpen  CurrentClose  CurrentAsk  Profit  \\\n",
       "0       1560.2       1559.95     1560.11   -0.72   \n",
       "1       1560.2       1559.95     1560.11   -0.67   \n",
       "2       1560.2       1559.95     1560.11   -0.70   \n",
       "3       1560.2       1559.95     1560.11   -0.62   \n",
       "4       1560.2       1559.95     1560.11   -0.60   \n",
       "\n",
       "                    closeReason Action  \n",
       "0  closeByStopLossNonProfitable    buy  \n",
       "1  closeByStopLossNonProfitable    buy  \n",
       "2  closeByStopLossNonProfitable    buy  \n",
       "3  closeByStopLossNonProfitable    buy  \n",
       "4  closeByStopLossNonProfitable    buy  "
      ]
     },
     "execution_count": null,
     "metadata": {},
     "output_type": "execute_result"
    }
   ],
   "source": [
    "# import data to ipynb file\n",
    "\n",
    "golden_data = pd.read_csv('DATA/golden.csv', parse_dates=True)\n",
    "\n",
    "golden_data.head()"
   ]
  },
  {
   "cell_type": "code",
   "execution_count": null,
   "metadata": {},
   "outputs": [
    {
     "name": "stdout",
     "output_type": "stream",
     "text": [
      "<class 'pandas.core.frame.DataFrame'>\n",
      "RangeIndex: 34751 entries, 0 to 34750\n",
      "Data columns (total 6 columns):\n",
      " #   Column        Non-Null Count  Dtype  \n",
      "---  ------        --------------  -----  \n",
      " 0   CurrentOpen   34751 non-null  float64\n",
      " 1   CurrentClose  34751 non-null  float64\n",
      " 2   CurrentAsk    34751 non-null  float64\n",
      " 3   Profit        34751 non-null  float64\n",
      " 4   closeReason   34751 non-null  object \n",
      " 5   Action        34751 non-null  object \n",
      "dtypes: float64(4), object(2)\n",
      "memory usage: 1.6+ MB\n"
     ]
    }
   ],
   "source": [
    "# information from data\n",
    "\n",
    "golden_data.info()\n"
   ]
  },
  {
   "cell_type": "markdown",
   "metadata": {},
   "source": [
    "<p class=\"text-justify\" align=\"left\">\n",
    "We should do cleaning data and preprocessing it\n",
    "</p><br>"
   ]
  },
  {
   "cell_type": "code",
   "execution_count": null,
   "metadata": {},
   "outputs": [],
   "source": []
  },
  {
   "cell_type": "code",
   "execution_count": null,
   "metadata": {},
   "outputs": [],
   "source": [
    "# Function\n",
    "\n",
    "def objToCat(df):\n",
    "    '''\n",
    "    This function make objective column to categories and replace with int8 code\n",
    "\n",
    "    >>> dataframe.info()\n",
    "    >>> i Name_Column Len Dtype: object\n",
    "    ...\n",
    "    >>> objToCat(dataframe)\n",
    "    >>> dataframe.info()\n",
    "    >>> i Name_Column Len Dtype: int8\n",
    "    '''\n",
    "\n",
    "    \n",
    "    len_of_type = len(df.dtypes)\n",
    "    list_of_type = list(df.dtypes)\n",
    "\n",
    "    object_type = []\n",
    "\n",
    "    for i in range(len_of_type):\n",
    "        if list_of_type[i] == 'object':\n",
    "            object_type.append(df.columns[i])\n",
    "\n",
    "\n",
    "    for i in range(len(object_type)):\n",
    "\n",
    "        df[object_type[i]] = df[object_type[i]].astype('category').cat.codes\n",
    "\n",
    "    return df\n",
    "\n"
   ]
  },
  {
   "cell_type": "code",
   "execution_count": null,
   "metadata": {},
   "outputs": [
    {
     "name": "stdout",
     "output_type": "stream",
     "text": [
      "<class 'pandas.core.frame.DataFrame'>\n",
      "RangeIndex: 34751 entries, 0 to 34750\n",
      "Data columns (total 6 columns):\n",
      " #   Column        Non-Null Count  Dtype  \n",
      "---  ------        --------------  -----  \n",
      " 0   CurrentOpen   34751 non-null  float64\n",
      " 1   CurrentClose  34751 non-null  float64\n",
      " 2   CurrentAsk    34751 non-null  float64\n",
      " 3   Profit        34751 non-null  float64\n",
      " 4   closeReason   34751 non-null  int8   \n",
      " 5   Action        34751 non-null  int8   \n",
      "dtypes: float64(4), int8(2)\n",
      "memory usage: 1.1 MB\n"
     ]
    }
   ],
   "source": [
    "# change dtype of column from object to category\n",
    "\n",
    "objToCat(golden_data)\n",
    "\n",
    "golden_data.info()"
   ]
  },
  {
   "cell_type": "code",
   "execution_count": null,
   "metadata": {},
   "outputs": [],
   "source": []
  }
 ],
 "metadata": {
  "kernelspec": {
   "display_name": "Python 3.8.8 64-bit",
   "language": "python",
   "name": "python3"
  }
 },
 "nbformat": 4,
 "nbformat_minor": 2
}
