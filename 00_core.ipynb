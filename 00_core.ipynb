{
 "cells": [
  {
   "cell_type": "code",
   "execution_count": null,
   "metadata": {},
   "outputs": [],
   "source": [
    "# default_exp MCI_Project_Part01"
   ]
  },
  {
   "cell_type": "code",
   "execution_count": null,
   "metadata": {},
   "outputs": [],
   "source": [
    "#hide\n",
    "from nbdev.showdoc import *"
   ]
  },
  {
   "cell_type": "code",
   "execution_count": null,
   "metadata": {},
   "outputs": [],
   "source": [
    "import pandas as pd \n",
    "import numpy as np\n",
    "import matplotlib.pyplot as plt"
   ]
  },
  {
   "cell_type": "code",
   "execution_count": null,
   "metadata": {},
   "outputs": [
    {
     "data": {
      "text/html": [
       "<div>\n",
       "<style scoped>\n",
       "    .dataframe tbody tr th:only-of-type {\n",
       "        vertical-align: middle;\n",
       "    }\n",
       "\n",
       "    .dataframe tbody tr th {\n",
       "        vertical-align: top;\n",
       "    }\n",
       "\n",
       "    .dataframe thead th {\n",
       "        text-align: right;\n",
       "    }\n",
       "</style>\n",
       "<table border=\"1\" class=\"dataframe\">\n",
       "  <thead>\n",
       "    <tr style=\"text-align: right;\">\n",
       "      <th></th>\n",
       "      <th>CurrentOpen</th>\n",
       "      <th>CurrentTime</th>\n",
       "      <th>CurrentClose</th>\n",
       "      <th>closeReason</th>\n",
       "      <th>Action</th>\n",
       "    </tr>\n",
       "  </thead>\n",
       "  <tbody>\n",
       "    <tr>\n",
       "      <th>0</th>\n",
       "      <td>1560.2</td>\n",
       "      <td>1579516500</td>\n",
       "      <td>1559.95</td>\n",
       "      <td>closeByStopLossNonProfitable</td>\n",
       "      <td>buy</td>\n",
       "    </tr>\n",
       "    <tr>\n",
       "      <th>1</th>\n",
       "      <td>1560.2</td>\n",
       "      <td>1579516500</td>\n",
       "      <td>1559.95</td>\n",
       "      <td>closeByStopLossNonProfitable</td>\n",
       "      <td>buy</td>\n",
       "    </tr>\n",
       "    <tr>\n",
       "      <th>2</th>\n",
       "      <td>1560.2</td>\n",
       "      <td>1579516500</td>\n",
       "      <td>1559.95</td>\n",
       "      <td>closeByStopLossNonProfitable</td>\n",
       "      <td>buy</td>\n",
       "    </tr>\n",
       "    <tr>\n",
       "      <th>3</th>\n",
       "      <td>1560.2</td>\n",
       "      <td>1579516500</td>\n",
       "      <td>1559.95</td>\n",
       "      <td>closeByStopLossNonProfitable</td>\n",
       "      <td>buy</td>\n",
       "    </tr>\n",
       "    <tr>\n",
       "      <th>4</th>\n",
       "      <td>1560.2</td>\n",
       "      <td>1579516500</td>\n",
       "      <td>1559.95</td>\n",
       "      <td>closeByStopLossNonProfitable</td>\n",
       "      <td>buy</td>\n",
       "    </tr>\n",
       "  </tbody>\n",
       "</table>\n",
       "</div>"
      ],
      "text/plain": [
       "   CurrentOpen  CurrentTime  CurrentClose                   closeReason Action\n",
       "0       1560.2   1579516500       1559.95  closeByStopLossNonProfitable    buy\n",
       "1       1560.2   1579516500       1559.95  closeByStopLossNonProfitable    buy\n",
       "2       1560.2   1579516500       1559.95  closeByStopLossNonProfitable    buy\n",
       "3       1560.2   1579516500       1559.95  closeByStopLossNonProfitable    buy\n",
       "4       1560.2   1579516500       1559.95  closeByStopLossNonProfitable    buy"
      ]
     },
     "execution_count": null,
     "metadata": {},
     "output_type": "execute_result"
    }
   ],
   "source": [
    "golden_data = pd.read_csv('DATA/golden.csv')\n",
    "\n",
    "golden_data.head()"
   ]
  },
  {
   "cell_type": "code",
   "execution_count": null,
   "metadata": {},
   "outputs": [],
   "source": []
  }
 ],
 "metadata": {
  "kernelspec": {
   "display_name": "Python 3",
   "language": "python",
   "name": "python3"
  }
 },
 "nbformat": 4,
 "nbformat_minor": 2
}
